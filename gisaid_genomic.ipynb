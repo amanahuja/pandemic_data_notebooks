{
 "cells": [
  {
   "cell_type": "code",
   "execution_count": 1,
   "metadata": {},
   "outputs": [],
   "source": [
    "import os\n",
    "import numpy as np\n",
    "import pandas as pd"
   ]
  },
  {
   "cell_type": "code",
   "execution_count": 2,
   "metadata": {},
   "outputs": [],
   "source": [
    "data_dir = '/home/aman/workspace/pandemic_data/datasets1/'"
   ]
  },
  {
   "cell_type": "code",
   "execution_count": 3,
   "metadata": {},
   "outputs": [
    {
     "name": "stdout",
     "output_type": "stream",
     "text": [
      "citation_data.rtf\n",
      "data_dictionary_linelist.csv\n",
      "gh_mexico_linelist.csv\n",
      "gisaid_metadata.tsv\n"
     ]
    }
   ],
   "source": [
    "!ls -1 $data_dir/"
   ]
  },
  {
   "cell_type": "code",
   "execution_count": 4,
   "metadata": {},
   "outputs": [],
   "source": [
    "# The files we will be importing\n",
    "\n",
    "\n",
    "genomic_file  = os.path.join(data_dir, 'gisaid_metadata.tsv')"
   ]
  },
  {
   "cell_type": "markdown",
   "metadata": {},
   "source": [
    "## Data Dictionary, prep"
   ]
  },
  {
   "cell_type": "code",
   "execution_count": 5,
   "metadata": {},
   "outputs": [
    {
     "data": {
      "text/plain": [
       "['Virus name',\n",
       " 'Type',\n",
       " 'Accession ID',\n",
       " 'Collection date',\n",
       " 'Location',\n",
       " 'Additional location information',\n",
       " 'Sequence length',\n",
       " 'Host',\n",
       " 'Patient age',\n",
       " 'Gender',\n",
       " 'Clade',\n",
       " 'Pango lineage',\n",
       " 'Pangolin version',\n",
       " 'Variant',\n",
       " 'AA Substitutions',\n",
       " 'Submission date',\n",
       " 'Is reference?',\n",
       " 'Is complete?',\n",
       " 'Is high coverage?',\n",
       " 'Is low coverage?',\n",
       " 'N-Content',\n",
       " 'GC-Content']"
      ]
     },
     "execution_count": 5,
     "metadata": {},
     "output_type": "execute_result"
    }
   ],
   "source": [
    "\"\"\"\n",
    "Sample the TSV file!\n",
    "\n",
    "We don't have a data dictionary, so we'll first import a small number of rows, \n",
    "figure out what we want, and then do a bigger import.\n",
    "\n",
    "GISAID provides TSV tab delimited format. \n",
    "\"\"\"\n",
    "\n",
    "genomic = pd.read_csv(genomic_file, \n",
    "                      sep='\\t', \n",
    "                      nrows=100)\n",
    "\n",
    "genomic.columns.to_list()"
   ]
  },
  {
   "cell_type": "code",
   "execution_count": 6,
   "metadata": {},
   "outputs": [],
   "source": [
    "\"\"\"\n",
    "Column Selection\n",
    "----\n",
    "Select the columns we want to keep, and rename them for convenience. \n",
    "\n",
    "columns_map: dict\n",
    "    This dict maps original column names to desired column names.\n",
    "    All other columns will not be imported. \n",
    "\"\"\"\n",
    "\n",
    "\n",
    "columns_map = {\n",
    "    'Virus name': 'virus_name',\n",
    "    'Type': 'type',\n",
    "    'Collection date': 'collection_date',\n",
    "    'Location': 'location',\n",
    "    'Sequence length': 'sequence_length',\n",
    "    'Patient age': 'age',\n",
    "    'Gender': 'sex',\n",
    "    'Pango lineage': 'pango_lineage',\n",
    "    #'Pangolin version': 'pangolin_version',\n",
    "    'Variant': 'variant',\n",
    "    'Submission date':'submitted_date', \n",
    "    'Is complete?': 'is_complete',\n",
    "}\n"
   ]
  },
  {
   "cell_type": "code",
   "execution_count": 7,
   "metadata": {},
   "outputs": [
    {
     "name": "stderr",
     "output_type": "stream",
     "text": [
      "/home/aman/anaconda3/envs/workspace/lib/python3.9/site-packages/IPython/core/interactiveshell.py:3444: DtypeWarning: Columns (13) have mixed types.Specify dtype option on import or set low_memory=False.\n",
      "  exec(code_obj, self.user_global_ns, self.user_ns)\n"
     ]
    }
   ],
   "source": [
    "\"\"\"\n",
    "Load genomic data from TSV file\n",
    "----\n",
    "\n",
    "GISAID provides TSV tab delimited format. \n",
    "We load the columns specified in the `columns_map` dict and rename accordingly. \n",
    "\"\"\"\n",
    "\n",
    "# import genomic data into a dataframe\n",
    "genomic = pd.read_csv(genomic_file, \n",
    "                      sep='\\t', \n",
    "                      usecols = columns_map.keys(),\n",
    "                      )\n",
    "\n",
    "\n",
    "# rename the columns\n",
    "genomic.rename(columns=columns_map, inplace=True)"
   ]
  },
  {
   "cell_type": "code",
   "execution_count": 8,
   "metadata": {},
   "outputs": [
    {
     "data": {
      "text/html": [
       "<div>\n",
       "<style scoped>\n",
       "    .dataframe tbody tr th:only-of-type {\n",
       "        vertical-align: middle;\n",
       "    }\n",
       "\n",
       "    .dataframe tbody tr th {\n",
       "        vertical-align: top;\n",
       "    }\n",
       "\n",
       "    .dataframe thead th {\n",
       "        text-align: right;\n",
       "    }\n",
       "</style>\n",
       "<table border=\"1\" class=\"dataframe\">\n",
       "  <thead>\n",
       "    <tr style=\"text-align: right;\">\n",
       "      <th></th>\n",
       "      <th>0</th>\n",
       "      <th>1</th>\n",
       "    </tr>\n",
       "  </thead>\n",
       "  <tbody>\n",
       "    <tr>\n",
       "      <th>virus_name</th>\n",
       "      <td>hCoV-19/Australia/NT12/2020</td>\n",
       "      <td>hCoV-19/Australia/NT13/2020</td>\n",
       "    </tr>\n",
       "    <tr>\n",
       "      <th>type</th>\n",
       "      <td>betacoronavirus</td>\n",
       "      <td>betacoronavirus</td>\n",
       "    </tr>\n",
       "    <tr>\n",
       "      <th>collection_date</th>\n",
       "      <td>2020-03-25</td>\n",
       "      <td>2020-03-25</td>\n",
       "    </tr>\n",
       "    <tr>\n",
       "      <th>location</th>\n",
       "      <td>Oceania / Australia / Northern Territory</td>\n",
       "      <td>Oceania / Australia / Northern Territory</td>\n",
       "    </tr>\n",
       "    <tr>\n",
       "      <th>sequence_length</th>\n",
       "      <td>29862</td>\n",
       "      <td>29865</td>\n",
       "    </tr>\n",
       "    <tr>\n",
       "      <th>age</th>\n",
       "      <td>unknown</td>\n",
       "      <td>unknown</td>\n",
       "    </tr>\n",
       "    <tr>\n",
       "      <th>sex</th>\n",
       "      <td>unknown</td>\n",
       "      <td>unknown</td>\n",
       "    </tr>\n",
       "    <tr>\n",
       "      <th>pango_lineage</th>\n",
       "      <td>B.1</td>\n",
       "      <td>B.1</td>\n",
       "    </tr>\n",
       "    <tr>\n",
       "      <th>variant</th>\n",
       "      <td>NaN</td>\n",
       "      <td>NaN</td>\n",
       "    </tr>\n",
       "    <tr>\n",
       "      <th>submitted_date</th>\n",
       "      <td>2020-04-17</td>\n",
       "      <td>2020-04-17</td>\n",
       "    </tr>\n",
       "    <tr>\n",
       "      <th>is_complete</th>\n",
       "      <td>True</td>\n",
       "      <td>True</td>\n",
       "    </tr>\n",
       "  </tbody>\n",
       "</table>\n",
       "</div>"
      ],
      "text/plain": [
       "                                                        0  \\\n",
       "virus_name                    hCoV-19/Australia/NT12/2020   \n",
       "type                                      betacoronavirus   \n",
       "collection_date                                2020-03-25   \n",
       "location         Oceania / Australia / Northern Territory   \n",
       "sequence_length                                     29862   \n",
       "age                                               unknown   \n",
       "sex                                               unknown   \n",
       "pango_lineage                                         B.1   \n",
       "variant                                               NaN   \n",
       "submitted_date                                 2020-04-17   \n",
       "is_complete                                          True   \n",
       "\n",
       "                                                        1  \n",
       "virus_name                    hCoV-19/Australia/NT13/2020  \n",
       "type                                      betacoronavirus  \n",
       "collection_date                                2020-03-25  \n",
       "location         Oceania / Australia / Northern Territory  \n",
       "sequence_length                                     29865  \n",
       "age                                               unknown  \n",
       "sex                                               unknown  \n",
       "pango_lineage                                         B.1  \n",
       "variant                                               NaN  \n",
       "submitted_date                                 2020-04-17  \n",
       "is_complete                                          True  "
      ]
     },
     "execution_count": 8,
     "metadata": {},
     "output_type": "execute_result"
    }
   ],
   "source": [
    "genomic.head(2).T"
   ]
  },
  {
   "cell_type": "markdown",
   "metadata": {},
   "source": [
    "# Processing genomic data\n",
    "\n",
    "\n",
    "Things we may want to do\n",
    "* select region of interest\n",
    "* select variant or lineage\n",
    "* manage NaNs and dtypes\n"
   ]
  },
  {
   "cell_type": "code",
   "execution_count": 9,
   "metadata": {},
   "outputs": [
    {
     "name": "stdout",
     "output_type": "stream",
     "text": [
      "Original number of rows: 4439181; reduced to 32056 rows.\n"
     ]
    }
   ],
   "source": [
    "\"\"\"\n",
    "select rows in our region of interest\n",
    "---\n",
    "\n",
    "Region needs to unambiguously find rows matching that location in GISAID\n",
    "\n",
    "\"\"\"\n",
    "\n",
    "# IMPORTANT:\n",
    "# use all lower case when specifying the target region\n",
    "# be as specific as possible \n",
    "# for example 'mexico' would catch 'new mexico'\n",
    "\n",
    "target_region = 'north america / mexico'\n",
    "# target_region = 'argentina'\n",
    "# target_region = 'india'\n",
    "# target_region = 'brazil'\n",
    "# target_region = 'south africa'\n",
    "# target_region = 'rio de janeiro'\n",
    "\n",
    "\n",
    "# create boolean mask \n",
    "mask = genomic.location.str.lower().str.contains(target_region)\n",
    "\n",
    "# notify\n",
    "print (f\"Original number of rows: {len(genomic)}; reduced to {mask.sum()} rows.\")\n",
    "\n",
    "# perform the horizontal slice\n",
    "genomic = genomic[mask]"
   ]
  },
  {
   "cell_type": "code",
   "execution_count": 10,
   "metadata": {},
   "outputs": [
    {
     "data": {
      "text/plain": [
       "32056"
      ]
     },
     "execution_count": 10,
     "metadata": {},
     "output_type": "execute_result"
    }
   ],
   "source": [
    "# sanity check\n",
    "len(genomic)"
   ]
  },
  {
   "cell_type": "code",
   "execution_count": 11,
   "metadata": {},
   "outputs": [],
   "source": [
    "\"\"\"\n",
    "Select rows based on lineage / variant. \n",
    "---\n",
    "\n",
    "\"\"\"\n",
    "\n",
    "pass\n",
    "\n",
    "## Filter by pangolin_lineage (eg P.1) or variant name (eg gamma)\n",
    "\n",
    "# target_lineage = 'B.1.1.7'\n",
    "# target_variant = 'delta'\n",
    "\n",
    "\n",
    "# other options\n",
    "\n",
    "# target_variant = 'B.1.351'\n",
    "# target_variant = 'P.1'\n",
    "# target_variant = 'P'\n",
    "# target_variant = 'B.1.617.2'\n",
    "\n",
    "# target_variant = 'alpha'\n",
    "\n"
   ]
  },
  {
   "cell_type": "code",
   "execution_count": 12,
   "metadata": {},
   "outputs": [
    {
     "name": "stdout",
     "output_type": "stream",
     "text": [
      "Converting datetime columns: ['collection_date', 'submitted_date']\n"
     ]
    }
   ],
   "source": [
    "\"\"\"Manage NaNs and dtypes\n",
    "\"\"\"\n",
    "\n",
    "# missing data is marked with \"?\". Convert to NaN\n",
    "genomic.replace('?', np.nan, inplace=True)\n",
    "\n",
    "\n",
    "## Convert types\n",
    "\n",
    "# columns\n",
    "columns = genomic.columns.tolist()\n",
    "\n",
    "# datetime columns\n",
    "datetimecols = [col for col in columns if 'date' in col]\n",
    "print (f\"Converting datetime columns: {datetimecols}\")\n",
    "\n",
    "for col in datetimecols: \n",
    "    genomic[col] = pd.to_datetime(genomic[col])\n"
   ]
  },
  {
   "cell_type": "code",
   "execution_count": 13,
   "metadata": {},
   "outputs": [
    {
     "data": {
      "text/plain": [
       "virus_name                 object\n",
       "type                       object\n",
       "collection_date    datetime64[ns]\n",
       "location                   object\n",
       "sequence_length             int64\n",
       "age                        object\n",
       "sex                        object\n",
       "pango_lineage              object\n",
       "variant                    object\n",
       "submitted_date     datetime64[ns]\n",
       "is_complete                object\n",
       "dtype: object"
      ]
     },
     "execution_count": 13,
     "metadata": {},
     "output_type": "execute_result"
    }
   ],
   "source": [
    "genomic.dtypes"
   ]
  },
  {
   "cell_type": "markdown",
   "metadata": {},
   "source": [
    "## Inspect "
   ]
  },
  {
   "cell_type": "code",
   "execution_count": 14,
   "metadata": {},
   "outputs": [
    {
     "data": {
      "text/html": [
       "<div>\n",
       "<style scoped>\n",
       "    .dataframe tbody tr th:only-of-type {\n",
       "        vertical-align: middle;\n",
       "    }\n",
       "\n",
       "    .dataframe tbody tr th {\n",
       "        vertical-align: top;\n",
       "    }\n",
       "\n",
       "    .dataframe thead th {\n",
       "        text-align: right;\n",
       "    }\n",
       "</style>\n",
       "<table border=\"1\" class=\"dataframe\">\n",
       "  <thead>\n",
       "    <tr style=\"text-align: right;\">\n",
       "      <th></th>\n",
       "      <th>414</th>\n",
       "      <th>421</th>\n",
       "    </tr>\n",
       "  </thead>\n",
       "  <tbody>\n",
       "    <tr>\n",
       "      <th>virus_name</th>\n",
       "      <td>hCoV-19/Mexico/CMX-INER-02/2020</td>\n",
       "      <td>hCoV-19/Mexico/CMX-INER-01/2020</td>\n",
       "    </tr>\n",
       "    <tr>\n",
       "      <th>type</th>\n",
       "      <td>betacoronavirus</td>\n",
       "      <td>betacoronavirus</td>\n",
       "    </tr>\n",
       "    <tr>\n",
       "      <th>collection_date</th>\n",
       "      <td>2020-03-13 00:00:00</td>\n",
       "      <td>2020-03-12 00:00:00</td>\n",
       "    </tr>\n",
       "    <tr>\n",
       "      <th>location</th>\n",
       "      <td>North America / Mexico / Mexico City</td>\n",
       "      <td>North America / Mexico / Mexico City</td>\n",
       "    </tr>\n",
       "    <tr>\n",
       "      <th>sequence_length</th>\n",
       "      <td>29866</td>\n",
       "      <td>29864</td>\n",
       "    </tr>\n",
       "    <tr>\n",
       "      <th>age</th>\n",
       "      <td>55</td>\n",
       "      <td>42</td>\n",
       "    </tr>\n",
       "    <tr>\n",
       "      <th>sex</th>\n",
       "      <td>Female</td>\n",
       "      <td>Male</td>\n",
       "    </tr>\n",
       "    <tr>\n",
       "      <th>pango_lineage</th>\n",
       "      <td>B.1</td>\n",
       "      <td>B.1</td>\n",
       "    </tr>\n",
       "    <tr>\n",
       "      <th>variant</th>\n",
       "      <td>NaN</td>\n",
       "      <td>NaN</td>\n",
       "    </tr>\n",
       "    <tr>\n",
       "      <th>submitted_date</th>\n",
       "      <td>2020-04-13 00:00:00</td>\n",
       "      <td>2020-04-12 00:00:00</td>\n",
       "    </tr>\n",
       "    <tr>\n",
       "      <th>is_complete</th>\n",
       "      <td>True</td>\n",
       "      <td>True</td>\n",
       "    </tr>\n",
       "  </tbody>\n",
       "</table>\n",
       "</div>"
      ],
      "text/plain": [
       "                                                  414  \\\n",
       "virus_name            hCoV-19/Mexico/CMX-INER-02/2020   \n",
       "type                                  betacoronavirus   \n",
       "collection_date                   2020-03-13 00:00:00   \n",
       "location         North America / Mexico / Mexico City   \n",
       "sequence_length                                 29866   \n",
       "age                                                55   \n",
       "sex                                            Female   \n",
       "pango_lineage                                     B.1   \n",
       "variant                                           NaN   \n",
       "submitted_date                    2020-04-13 00:00:00   \n",
       "is_complete                                      True   \n",
       "\n",
       "                                                  421  \n",
       "virus_name            hCoV-19/Mexico/CMX-INER-01/2020  \n",
       "type                                  betacoronavirus  \n",
       "collection_date                   2020-03-12 00:00:00  \n",
       "location         North America / Mexico / Mexico City  \n",
       "sequence_length                                 29864  \n",
       "age                                                42  \n",
       "sex                                              Male  \n",
       "pango_lineage                                     B.1  \n",
       "variant                                           NaN  \n",
       "submitted_date                    2020-04-12 00:00:00  \n",
       "is_complete                                      True  "
      ]
     },
     "execution_count": 14,
     "metadata": {},
     "output_type": "execute_result"
    }
   ],
   "source": [
    "genomic.head(2).T"
   ]
  }
 ],
 "metadata": {
  "kernelspec": {
   "display_name": "Python 3 (ipykernel)",
   "language": "python",
   "name": "python3"
  },
  "language_info": {
   "codemirror_mode": {
    "name": "ipython",
    "version": 3
   },
   "file_extension": ".py",
   "mimetype": "text/x-python",
   "name": "python",
   "nbconvert_exporter": "python",
   "pygments_lexer": "ipython3",
   "version": "3.9.7"
  }
 },
 "nbformat": 4,
 "nbformat_minor": 4
}
